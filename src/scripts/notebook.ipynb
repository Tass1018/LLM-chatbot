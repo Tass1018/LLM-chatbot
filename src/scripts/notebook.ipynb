{
 "cells": [
  {
   "cell_type": "code",
   "execution_count": 1,
   "metadata": {
    "collapsed": true
   },
   "outputs": [],
   "source": [
    "import requests\n",
    "from bs4 import BeautifulSoup"
   ]
  },
  {
   "cell_type": "code",
   "execution_count": 24,
   "outputs": [],
   "source": [
    "def scrape_website(url):\n",
    "    response = requests.get(url)\n",
    "    soup = BeautifulSoup(response.content, 'html.parser')\n",
    "\n",
    "    # Extract the necessary information from the webpage using Beautiful Soup\n",
    "    # For this example, I am assuming that the details are present in paragraphs (<p>) and headers (<h1>, <h2>, etc.)\n",
    "    text_data = [element.get_text() for element in soup.find_all(['body'])]\n",
    "\n",
    "    return \" \".join(text_data)\n",
    "\n",
    "\n",
    "url = \"https://caesar.web.engr.illinois.edu/\"\n",
    "data = scrape_website(url)"
   ],
   "metadata": {
    "collapsed": false
   }
  },
  {
   "cell_type": "code",
   "execution_count": 25,
   "outputs": [
    {
     "data": {
      "text/plain": "'\\n\\n\\n\\nMatthew Caesar\\nProfessor \\nDepartment of Computer Science\\nUniversity of Illinois at Urbana-Champaign\\nUrbana, IL, 61801\\n\\nEmail: caesar (at) cs (dot) illinois (dot) edu\\nOffice: Room 3118, Siebel Center \\nPhone: 847-323-2968\\n\\n\\nLinks: \\n[ Publications ]\\n[ Bio ]\\n\\n\\n\\n\\n\\nI am a Professor in the Department of Computer Science at UIUC.\\nI am also an Affiliate Professor in the  Department of Electrical and Computer Engineering, an Affiliate Research Professor in the Coordinated Science Laboratory, Affiliate Professor in the School of Information Sciences, and a member of the Information Trust Institute. \\nI currently serve as the Vice Chair of ACM SIGCOMM, and the co-chair of The Networking Channel, an online community talk series for the computer systems and networking community. \\nI co-founded and previously served as the Chief Science Officer and President of Veriflow (sold to VMware in 2019). \\nI received my Ph.D. in Computer Science from UC Berkeley.  \\n\\n\\nMy research focuses on the design, analysis, and implementation of\\nnetworked and distributed systems, with an emphasis on network\\nvirtualization, routing, network algorithms, systems security, and\\ncloud services. I like taking a multi-pronged approach to system\\ndesign, building systems that work well in practice but are grounded in\\nstrong theoretical principles. \\nMy recent work involves network security, network verification, and Internet of Things.\\nFor an overview of one of my projects please see this video.\\n\\n Students \\n\\n Mubashir Anwar (PhD)  \\n Yu-Ju Chang (MS)  \\n Kuan-Yen (KY) Chou (PhD)  \\n Shivram Gowtham(MS)  \\n Xin Jin (MS)  \\n Deepti Kalasapura (MS)  \\n Yuantao Lu (MS)  \\n Arpitha Raghunandan (MS)  \\n Hongshuo Zhang (MS)  \\n\\n Alumni \\n\\n\\n Yifan (Vicky) Chen (MS 2023, Monad Labs)  \\n  Gregory Lee (MS 2022, NVIDIA, Machine Learning)  \\n Rahul Balakrishnan (MS 2021, Front)  \\n Aniket Shirke (MS 2021, Google, Youtube Ads Ecosystem)  \\n Bella Lee (MS 2021, Google)  \\n Santhosh Prabhu (PhD 2020, VMware)  \\n Umar Farooq (MS 2020, Amazon Cloud Services)  \\n Wenxuan Zhou (PhD 2018, Senior Software Engineer, Network Verification Group, VMware)  \\n Jason Croft (PhD 2018, Researcher, Forward Networks)  \\n Zhichun Wan (MS 2019, Software Engineer, Cloud Development Group, Marklogic)   \\n Rashid Tahir (PhD 2018, Assistant Professor, University of Prince Mugrin, Saudi Arabia)  \\n Gohar Irfan Chaudhry (MS 2018, Systems and Networking Group, Microsoft Research)  \\n Yongli Chen (MS 2017, Azure Cloud Core Networking Team, Microsoft)  \\n  Fred Douglas (PhD 2017, Software Engineer (working on Internet Freedom), Google)  \\n Hassan Shahid Khan (MS 2017, Software Engineer, Amazon)  \\n Ahmed Khurshid (PhD 2015, Principal Engineer and Co-Founder, Veriflow Systems)  \\n Kevin Jin (Postdoctoral Fellow, Assistant Professor, Illinois Institute of Technology) \\n Anduo Wang (Postdoctoral Fellow, Assistant Professor, Temple University) \\n Virajith Jalaparti (PhD 2015, Scientist, Cloud Information Services Laboratory, Microsoft) \\n Jereme Lamps (MS 2015, Sandia National Labs, Cyber Security R&D) \\n Chi-Yao Hong (PhD 2015, Google Core Network Architectures Group) \\n Bobby Zhongbo Chen (MS 2015, Software Engineer, Growth Infrastructure Team, Dropbox) \\n Chia-Chi Lin (PhD 2013, Facebook Research)\\nYiwei Yang (MS 2013, Yahoo! Labs, Champaign)\\n\\nRachit Agarwal (PhD 2013, Assistant Professor, Cornell University) \\n Joseph Leong (MS 2013, MIT Lincoln Laboratory)\\n Firat Kiyak (MS 2009, Microsoft, Windows Core Networking Team)\\n Brent Mochizuki (MS 2010, UC Berkeley Space Sciences Lab)\\n\\n Teaching \\n\\nCS 498IT -- Internet of Things [Spring 2019] [Fall 2019] [Spring 2020] [Fall 2020] \\n CS 436 -- Systems and Networking Laboratory, [Fall 2009], [Spring 2012], [Fall 2017],  [Spring 2018],  [Fall 2018]  \\nCS 598 -- Network Security,\\t[Spring 2013] CS 598 -- Advanced Internetworking, [Fall 2008] [Spring 2011]\\nCS 591AoS -- Acting Out Algorithms [Spring 2013] [Fall 2013]\\n CS 438 -- Communication Networks, [Spring 2009] [Spring 2010] [Spring 2014]\\n CS 241 -- System Programming, [Fall 2011]  \\n\\n\\n'"
     },
     "execution_count": 25,
     "metadata": {},
     "output_type": "execute_result"
    }
   ],
   "source": [
    "data"
   ],
   "metadata": {
    "collapsed": false
   }
  },
  {
   "cell_type": "code",
   "execution_count": 26,
   "outputs": [
    {
     "name": "stdout",
     "output_type": "stream",
     "text": [
      "[('Matthew Caesar', 'PERSON'), ('Professor \\nDepartment of Computer Science\\nUniversity of Illinois', 'ORG'), ('Urbana-Champaign', 'ORG'), ('Urbana', 'GPE'), ('IL', 'ORG'), ('61801', 'DATE'), ('Siebel Center \\nPhone', 'WORK_OF_ART'), ('847-323-2968', 'CARDINAL'), ('the Department of Computer Science at UIUC', 'ORG'), ('Affiliate', 'ORG'), ('the  Department of Electrical and Computer Engineering', 'ORG'), ('Affiliate Research Professor', 'ORG'), ('the Coordinated Science Laboratory', 'ORG'), ('Affiliate Professor', 'ORG'), ('the School of Information Sciences', 'ORG'), ('the Information Trust Institute', 'ORG'), ('The Networking Channel', 'ORG'), ('Veriflow', 'PERSON'), ('VMware', 'ORG'), ('2019', 'DATE'), ('Ph.D. in Computer Science', 'WORK_OF_ART'), ('UC Berkeley', 'ORG'), ('one', 'CARDINAL'), ('PhD', 'WORK_OF_ART'), ('Yu-Ju Chang', 'PERSON'), ('Kuan-Yen', 'ORG'), ('Chou', 'PERSON'), ('PhD', 'WORK_OF_ART'), ('Shivram', 'PERSON'), ('Xin Jin', 'PERSON'), ('Deepti Kalasapura', 'PERSON'), ('Yuantao Lu', 'PERSON'), ('Arpitha Raghunandan', 'PERSON'), ('Hongshuo Zhang', 'PERSON'), ('Alumni \\n\\n\\n Yifan', 'PERSON'), ('Vicky', 'GPE'), ('Chen', 'PERSON'), ('Monad Labs', 'PERSON'), ('Gregory Lee', 'PERSON'), ('2022', 'DATE'), ('NVIDIA', 'ORG'), ('Machine Learning', 'PERSON'), ('Rahul Balakrishnan', 'PERSON'), ('2021', 'DATE'), ('Front', 'ORG'), ('Aniket Shirke (MS', 'PERSON'), ('2021', 'DATE'), ('Google', 'ORG'), ('Youtube Ads Ecosystem', 'PERSON'), ('Bella Lee', 'PERSON'), ('2021', 'DATE'), ('Google', 'ORG'), ('Santhosh Prabhu', 'PERSON'), ('PhD 2020', 'DATE'), ('VMware', 'ORG'), ('Umar Farooq', 'PERSON'), ('2020', 'DATE'), ('Amazon Cloud Services', 'ORG'), ('Wenxuan Zhou', 'PERSON'), ('PhD 2018', 'DATE'), ('Software Engineer', 'PERSON'), ('Network Verification Group', 'ORG'), ('VMware', 'ORG'), ('Jason Croft', 'PERSON'), ('PhD 2018', 'DATE'), ('Forward Networks', 'ORG'), ('Zhichun Wan', 'PERSON'), ('2019', 'DATE'), ('Software Engineer', 'ORG'), ('Cloud Development Group', 'ORG'), ('Marklogic', 'ORG'), ('Rashid Tahir', 'PERSON'), ('PhD 2018', 'DATE'), ('University of Prince Mugrin', 'ORG'), ('Saudi Arabia', 'GPE'), ('Gohar Irfan Chaudhry', 'PERSON'), ('2018', 'DATE'), ('Networking Group', 'ORG'), ('Microsoft Research', 'ORG'), ('Yongli Chen', 'PERSON'), ('2017', 'DATE'), ('Microsoft', 'ORG'), ('Fred Douglas', 'PERSON'), ('PhD 2017', 'DATE'), ('Software Engineer', 'ORG'), ('Google', 'ORG'), ('Hassan Shahid Khan', 'PERSON'), ('2017', 'DATE'), ('Software Engineer', 'ORG'), ('Amazon', 'ORG'), ('Ahmed Khurshid', 'PERSON'), ('PhD 2015', 'DATE'), ('Principal Engineer', 'ORG'), ('Co-Founder', 'ORG'), ('Kevin Jin', 'PERSON'), ('Postdoctoral Fellow', 'ORG'), ('Illinois Institute of Technology', 'ORG'), ('Anduo Wang', 'PERSON'), ('Postdoctoral Fellow', 'ORG'), ('Temple University', 'ORG'), ('PhD 2015', 'DATE'), ('Cloud Information Services Laboratory', 'ORG'), ('Microsoft', 'ORG'), ('2015', 'DATE'), ('Sandia National Labs', 'ORG'), ('Cyber Security', 'ORG'), ('PhD 2015', 'DATE'), ('Google Core Network Architectures Group', 'ORG'), ('Bobby Zhongbo Chen', 'PERSON'), ('2015', 'DATE'), ('Software Engineer', 'ORG'), ('Growth Infrastructure Team', 'ORG'), ('PhD 2013', 'DATE'), ('Facebook Research', 'ORG'), ('Yiwei Yang', 'PERSON'), ('2013', 'DATE'), ('Yahoo! Labs, Champaign', 'ORG'), ('Rachit Agarwal', 'WORK_OF_ART'), ('Cornell University', 'ORG'), ('Joseph Leong', 'PERSON'), ('2013', 'DATE'), ('MIT Lincoln Laboratory', 'ORG'), ('Firat Kiyak', 'PERSON'), ('2009', 'DATE'), ('Microsoft', 'ORG'), ('Windows Core Networking Team', 'ORG'), ('2010', 'DATE'), ('UC Berkeley Space Sciences Lab', 'ORG'), ('CS 498IT', 'PERSON'), ('Spring 2019', 'DATE'), ('Spring 2020', 'DATE'), ('Fall 2020', 'DATE'), ('Networking Laboratory', 'ORG'), ('Fall 2009', 'DATE'), ('Spring 2012', 'DATE'), ('2017', 'DATE'), ('Spring 2018', 'DATE'), ('Fall 2018', 'DATE'), ('CS 598', 'ORG'), ('Spring 2013', 'DATE'), ('CS', 'ORG'), ('Fall 2008', 'CARDINAL'), ('Spring 2011', 'DATE'), ('CS 591AoS', 'ORG'), ('Spring 2013', 'DATE'), ('Communication Networks', 'ORG'), ('Spring 2009', 'DATE'), ('Spring 2010', 'DATE'), ('Spring 2014', 'DATE')]\n"
     ]
    }
   ],
   "source": [
    "import spacy\n",
    "\n",
    "# Load the SpaCy language model\n",
    "nlp = spacy.load('en_core_web_sm')\n",
    "\n",
    "\n",
    "def process_text(text):\n",
    "    doc = nlp(text)\n",
    "\n",
    "    # Process the text using SpaCy\n",
    "    # For this example, I will extract named entities recognized by SpaCy\n",
    "    named_entities = [(ent.text, ent.label_) for ent in doc.ents]\n",
    "\n",
    "    return named_entities\n",
    "\n",
    "# Process the scraped data to extract structured information\n",
    "structured_data = process_text(data)\n",
    "print(structured_data)"
   ],
   "metadata": {
    "collapsed": false
   }
  },
  {
   "cell_type": "code",
   "execution_count": 27,
   "outputs": [
    {
     "name": "stdout",
     "output_type": "stream",
     "text": [
      "Matthew Caesar\n",
      "Professor\n",
      "Department of Computer Science\n",
      "University of Illinois at Urbana-Champaign\n",
      "Urbana, IL, 61801\n",
      "Email: caesar (at) cs (dot) illinois (dot) edu\n",
      "Office: Room 3118, Siebel Center\n",
      "Phone: 847-323-2968\n",
      "Links:\n",
      "[ Publications ]\n",
      "[ Bio ]\n",
      "I am a Professor in the Department of Computer Science at UIUC.\n",
      "I am also an Affiliate Professor in the  Department of Electrical and Computer Engineering, an Affiliate Research Professor in the Coordinated Science Laboratory, Affiliate Professor in the School of Information Sciences, and a member of the Information Trust Institute.\n",
      "I currently serve as the Vice Chair of ACM SIGCOMM, and the co-chair of The Networking Channel, an online community talk series for the computer systems and networking community.\n",
      "I co-founded and previously served as the Chief Science Officer and President of Veriflow (sold to VMware in 2019).\n",
      "I received my Ph.D. in Computer Science from UC Berkeley.\n",
      "My research focuses on the design, analysis, and implementation of\n",
      "networked and distributed systems, with an emphasis on network\n",
      "virtualization, routing, network algorithms, systems security, and\n",
      "cloud services. I like taking a multi-pronged approach to system\n",
      "design, building systems that work well in practice but are grounded in\n",
      "strong theoretical principles.\n",
      "My recent work involves network security, network verification, and Internet of Things.\n",
      "For an overview of one of my projects please see this video.\n",
      "Students\n",
      "Mubashir Anwar (PhD)\n",
      "Yu-Ju Chang (MS)\n",
      "Kuan-Yen (KY) Chou (PhD)\n",
      "Shivram Gowtham(MS)\n",
      "Xin Jin (MS)\n",
      "Deepti Kalasapura (MS)\n",
      "Yuantao Lu (MS)\n",
      "Arpitha Raghunandan (MS)\n",
      "Hongshuo Zhang (MS)\n",
      "Alumni\n",
      "Yifan (Vicky) Chen (MS 2023, Monad Labs)\n",
      "Gregory Lee (MS 2022, NVIDIA, Machine Learning)\n",
      "Rahul Balakrishnan (MS 2021, Front)\n",
      "Aniket Shirke (MS 2021, Google, Youtube Ads Ecosystem)\n",
      "Bella Lee (MS 2021, Google)\n",
      "Santhosh Prabhu (PhD 2020, VMware)\n",
      "Umar Farooq (MS 2020, Amazon Cloud Services)\n",
      "Wenxuan Zhou (PhD 2018, Senior Software Engineer, Network Verification Group, VMware)\n",
      "Jason Croft (PhD 2018, Researcher, Forward Networks)\n",
      "Zhichun Wan (MS 2019, Software Engineer, Cloud Development Group, Marklogic)\n",
      "Rashid Tahir (PhD 2018, Assistant Professor, University of Prince Mugrin, Saudi Arabia)\n",
      "Gohar Irfan Chaudhry (MS 2018, Systems and Networking Group, Microsoft Research)\n",
      "Yongli Chen (MS 2017, Azure Cloud Core Networking Team, Microsoft)\n",
      "Fred Douglas (PhD 2017, Software Engineer (working on Internet Freedom), Google)\n",
      "Hassan Shahid Khan (MS 2017, Software Engineer, Amazon)\n",
      "Ahmed Khurshid (PhD 2015, Principal Engineer and Co-Founder, Veriflow Systems)\n",
      "Kevin Jin (Postdoctoral Fellow, Assistant Professor, Illinois Institute of Technology)\n",
      "Anduo Wang (Postdoctoral Fellow, Assistant Professor, Temple University)\n",
      "Virajith Jalaparti (PhD 2015, Scientist, Cloud Information Services Laboratory, Microsoft)\n",
      "Jereme Lamps (MS 2015, Sandia National Labs, Cyber Security R&D)\n",
      "Chi-Yao Hong (PhD 2015, Google Core Network Architectures Group)\n",
      "Bobby Zhongbo Chen (MS 2015, Software Engineer, Growth Infrastructure Team, Dropbox)\n",
      "Chia-Chi Lin (PhD 2013, Facebook Research)\n",
      "Yiwei Yang (MS 2013, Yahoo! Labs, Champaign)\n",
      "Rachit Agarwal (PhD 2013, Assistant Professor, Cornell University)\n",
      "Joseph Leong (MS 2013, MIT Lincoln Laboratory)\n",
      "Firat Kiyak (MS 2009, Microsoft, Windows Core Networking Team)\n",
      "Brent Mochizuki (MS 2010, UC Berkeley Space Sciences Lab)\n",
      "Teaching\n",
      "CS 498IT -- Internet of Things [Spring 2019] [Fall 2019] [Spring 2020] [Fall 2020]\n",
      "CS 436 -- Systems and Networking Laboratory, [Fall 2009], [Spring 2012], [Fall 2017],  [Spring 2018],  [Fall 2018]\n",
      "CS 598 -- Network Security,\t[Spring 2013] CS 598 -- Advanced Internetworking, [Fall 2008] [Spring 2011]\n",
      "CS 591AoS -- Acting Out Algorithms [Spring 2013] [Fall 2013]\n",
      "CS 438 -- Communication Networks, [Spring 2009] [Spring 2010] [Spring 2014]\n",
      "CS 241 -- System Programming, [Fall 2011]\n"
     ]
    }
   ],
   "source": [
    "def clean_and_split_data(data):\n",
    "    split_data = data.split('\\n')\n",
    "    clean_data = [info.strip() for info in split_data if info.strip()]\n",
    "    return clean_data\n",
    "\n",
    "\n",
    "# Get the clean and split data\n",
    "clean_data = clean_and_split_data(data)\n",
    "\n",
    "# Print the clean and split data to verify the result\n",
    "for info in clean_data:\n",
    "    print(info)\n",
    "\n"
   ],
   "metadata": {
    "collapsed": false
   }
  },
  {
   "cell_type": "code",
   "execution_count": null,
   "outputs": [],
   "source": [],
   "metadata": {
    "collapsed": false
   }
  },
  {
   "cell_type": "code",
   "execution_count": null,
   "outputs": [],
   "source": [
    "def add_course(knowledge_base, course_code, course_name, semesters):\n",
    "    new_course = {\n",
    "        \"code\": course_code,\n",
    "        \"name\": course_name,\n",
    "        \"semesters\": semesters,\n",
    "    }\n",
    "    knowledge_base[\"teaching\"][\"courses\"].append(new_course)"
   ],
   "metadata": {
    "collapsed": false
   }
  }
 ],
 "metadata": {
  "kernelspec": {
   "display_name": "Python 3",
   "language": "python",
   "name": "python3"
  },
  "language_info": {
   "codemirror_mode": {
    "name": "ipython",
    "version": 2
   },
   "file_extension": ".py",
   "mimetype": "text/x-python",
   "name": "python",
   "nbconvert_exporter": "python",
   "pygments_lexer": "ipython2",
   "version": "2.7.6"
  }
 },
 "nbformat": 4,
 "nbformat_minor": 0
}
